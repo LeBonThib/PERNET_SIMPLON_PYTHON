{
 "cells": [
  {
   "cell_type": "markdown",
   "metadata": {
    "colab_type": "text",
    "id": "0MRC0e0KhQ0S"
   },
   "source": [
    "#  REGRESSION LOGISTIQUE\n",
    "\n",
    "## introduction\n",
    "\n",
    "Dans cet exercice guidé nous allons pratiquer la régression logistique sous Python via les packages « statsmodels » et « scikit-learn ».\n",
    "  nous tâcherons de décrire les différentes étapes de la construction du modèle à son évaluation et la mesure de ses performances prédictives."
   ]
  },
  {
   "cell_type": "markdown",
   "metadata": {},
   "source": [
    "## Utilisation du package scikit-learn"
   ]
  },
  {
   "cell_type": "markdown",
   "metadata": {
    "colab_type": "text",
    "id": "LWd1UlMnhT2s"
   },
   "source": [
    "## Import des librairies\n",
    "\n",
    "Pour commencer nous allons utiliser uniquement le packages scikit-learn\n",
    "hormis les librairies classiques importez celle utilisée pour la regression logistique et celles pour les métriques necessaires (matrice de confusion, rapport des métriques)\n",
    "\n"
   ]
  },
  {
   "cell_type": "code",
   "execution_count": 244,
   "metadata": {
    "colab": {},
    "colab_type": "code",
    "id": "YvGPUQaHhXfL"
   },
   "outputs": [],
   "source": [
    "\n",
    "\n"
   ]
  },
  {
   "cell_type": "markdown",
   "metadata": {
    "colab_type": "text",
    "id": "K1VMqkGvhc3-"
   },
   "source": [
    "## Import du dataset\n",
    "\n",
    "Nous analysons dans cet exercice les facteurs de risque d'infidélité dans les ménages. NOus verrons que le facteur temps est bien évidemment un paramètre qui joue en faveur de l'infidélité. Mais pas seulement, d'autres variables également."
   ]
  },
  {
   "cell_type": "code",
   "execution_count": 150,
   "metadata": {
    "colab": {},
    "colab_type": "code",
    "id": "M52QDmyzhh9s"
   },
   "outputs": [],
   "source": [
    "#importez votre dataset\n"
   ]
  },
  {
   "cell_type": "markdown",
   "metadata": {},
   "source": [
    "## descrivez et visualisez votre dataset"
   ]
  },
  {
   "cell_type": "code",
   "execution_count": 4,
   "metadata": {},
   "outputs": [],
   "source": [
    "#décrivez rapidement votre jeu de données\n",
    "\n",
    "#Réalisez une brève analyse exploratoire\n",
    "# en affichant la matrice de correlation\n",
    "# en visualisant les variables les plus pertinentes\n",
    "# A premières vues , qu'en déduisez vous ? "
   ]
  },
  {
   "cell_type": "markdown",
   "metadata": {
    "colab_type": "text",
    "id": "YvxIPVyMhmKp"
   },
   "source": [
    "## Séparez votre dataset en Train set et Test set"
   ]
  },
  {
   "cell_type": "code",
   "execution_count": 152,
   "metadata": {
    "colab": {},
    "colab_type": "code",
    "id": "AVzJWAXIhxoC"
   },
   "outputs": [],
   "source": [
    "#définissez tout d'abord vos variables : indépendantes/ dependante\n",
    "\n",
    "\n",
    "#splittez votre dataset de sorte à avoir 1/3 des données dans le test set \n"
   ]
  },
  {
   "cell_type": "code",
   "execution_count": 153,
   "metadata": {
    "colab": {
     "base_uri": "https://localhost:8080/",
     "height": 1000
    },
    "colab_type": "code",
    "executionInfo": {
     "elapsed": 2163,
     "status": "ok",
     "timestamp": 1588265315502,
     "user": {
      "displayName": "Hadelin de Ponteves",
      "photoUrl": "https://lh3.googleusercontent.com/a-/AOh14GhEuXdT7eQweUmRPW8_laJuPggSK6hfvpl5a6WBaA=s64",
      "userId": "15047218817161520419"
     },
     "user_tz": -240
    },
    "id": "P3nS3-6r1i2B",
    "outputId": "75d6e0cf-d13b-42cf-a353-888682415d37"
   },
   "outputs": [
    {
     "name": "stdout",
     "output_type": "stream",
     "text": [
      "0    150\n",
      "1     50\n",
      "Name: Infidelite, dtype: int64\n",
      "0    301\n",
      "1    100\n",
      "Name: Infidelite, dtype: int64\n"
     ]
    }
   ],
   "source": [
    "# vérifiez le nombre de données y dans chaque jeu (train et test)\n"
   ]
  },
  {
   "cell_type": "markdown",
   "metadata": {
    "colab_type": "text",
    "id": "bb6jCOCQiAmP"
   },
   "source": [
    "## Entrainez la regression logistique sur votre train set"
   ]
  },
  {
   "cell_type": "code",
   "execution_count": 1,
   "metadata": {
    "colab": {
     "base_uri": "https://localhost:8080/",
     "height": 103
    },
    "colab_type": "code",
    "executionInfo": {
     "elapsed": 2125,
     "status": "ok",
     "timestamp": 1588265315505,
     "user": {
      "displayName": "Hadelin de Ponteves",
      "photoUrl": "https://lh3.googleusercontent.com/a-/AOh14GhEuXdT7eQweUmRPW8_laJuPggSK6hfvpl5a6WBaA=s64",
      "userId": "15047218817161520419"
     },
     "user_tz": -240
    },
    "id": "e0pFVAmciHQs",
    "outputId": "67f64468-abdb-4fe7-cce9-de0037119610"
   },
   "outputs": [],
   "source": [
    "#Nous instancions une régression logistique sans pénalité c.-à-d. sans réaliser de régularisation pour l'instant\n"
   ]
  },
  {
   "cell_type": "markdown",
   "metadata": {},
   "source": [
    "Que se passe t - il ? \n",
    "le processus n’a pas convergé alors que le nombre maximal d’itération par défaut est (max_iter = 100).(voir doc)\n",
    "\n",
    "« Scikit-learn » nous propose alors de : \n",
    "- soit augmenter le nombre d’itérations (mais trop de puissance de calcul pour un résultat incertain),\n",
    "- soit de standardiser les données avant de lancer l’algorithme\n",
    "La documentation de la régression logistique sous « scikit-learn » nous indique les différents algorithmes d’optimisation qu’il est susceptible d’utiliser (option « solver »)\n",
    "Ces approches sont sensibles aux différences d’échelles entre les variables, d’où l’indication « scale the data » dans le\n",
    "« warning » envoyé par la méthode fit()"
   ]
  },
  {
   "cell_type": "markdown",
   "metadata": {},
   "source": [
    "### Standardisation des données"
   ]
  },
  {
   "cell_type": "markdown",
   "metadata": {},
   "source": [
    "La doc de la régression logistique sous « scikit-learn » nous indique les différents\n",
    "algorithmes d’optimisation qu’il est susceptible d’utiliser (option « solver »).\n",
    "Ces approches sont\n",
    "sensibles aux différences d’échelles entre les variables, d’où l’indication « scale the data » dans le\n",
    "« warning » envoyé par la méthode fit().\n",
    "\n",
    "Nous allons donc centrer et réduire nos données avant de relancer le modèle"
   ]
  },
  {
   "cell_type": "code",
   "execution_count": 3,
   "metadata": {},
   "outputs": [],
   "source": [
    "#importation de la bibliothèque necessaire à la standardisation\n",
    "from sklearn import preprocessing\n",
    "import scipy as sci\n",
    "#instanciation\n",
    "\n",
    "#transformation\n",
    "\n",
    "# imprimer les statistiques de descriptions\n",
    "\n",
    "#remarquez que les variables sont bien de moyenne nulle et d’écart-type unitaire."
   ]
  },
  {
   "cell_type": "code",
   "execution_count": 2,
   "metadata": {},
   "outputs": [],
   "source": [
    "#quelles sont les valeurs que peuvent prendre y ? essayer avec attribute_classes\n"
   ]
  },
  {
   "cell_type": "markdown",
   "metadata": {},
   "source": [
    "### relancez votre modèle"
   ]
  },
  {
   "cell_type": "code",
   "execution_count": 157,
   "metadata": {},
   "outputs": [
    {
     "name": "stdout",
     "output_type": "stream",
     "text": [
      "              var      coef\n",
      "0             Sex -0.020166\n",
      "1             Age -0.154717\n",
      "2    YearsMarried  0.348020\n",
      "3        Children  0.046299\n",
      "4       Religious -0.367941\n",
      "5       Education  0.106637\n",
      "6      Occupation  0.079470\n",
      "7  RatingMarriage -0.568768\n"
     ]
    }
   ],
   "source": [
    "# relancez le modèle avec les nouvelles valeurs standardisées\n",
    "\n",
    "#affichez les coefficients"
   ]
  },
  {
   "cell_type": "markdown",
   "metadata": {},
   "source": [
    "### Dé-standardisation des coefficients\n",
    "\n",
    "ATTENTION ! nous travaillons sur des données transformées. Nous devons les « dé-standardiser » en les divisant par les écarts-type des variables.\n"
   ]
  },
  {
   "cell_type": "code",
   "execution_count": 6,
   "metadata": {},
   "outputs": [],
   "source": [
    "#correction des coefficients -\n",
    "#  dé-standardisationpar les écarts-type utilisés lors de la standardisation des variables\n",
    "coefUnstd = classifier_std.coef_[0] / stds.scale_\n",
    "\n",
    "#affichage des coefficients corrigés\n"
   ]
  },
  {
   "cell_type": "code",
   "execution_count": 120,
   "metadata": {},
   "outputs": [
    {
     "name": "stdout",
     "output_type": "stream",
     "text": [
      "[0.81174835]\n"
     ]
    }
   ],
   "source": [
    "# on fait de même pour la constante (l'ordonnée à l'origine)\n",
    "interceptUnStd =classifier_std.intercept_ + np.sum(classifier_std.coef_[0]*(-stds.mean_/stds.scale_))\n",
    "print(interceptUnStd)\n"
   ]
  },
  {
   "cell_type": "markdown",
   "metadata": {
    "colab_type": "text",
    "id": "yyxW5b395mR2"
   },
   "source": [
    "## Faites des prédictions des résultats du train set"
   ]
  },
  {
   "cell_type": "code",
   "execution_count": 137,
   "metadata": {
    "colab": {
     "base_uri": "https://localhost:8080/",
     "height": 34
    },
    "colab_type": "code",
    "executionInfo": {
     "elapsed": 2118,
     "status": "ok",
     "timestamp": 1588265315505,
     "user": {
      "displayName": "Hadelin de Ponteves",
      "photoUrl": "https://lh3.googleusercontent.com/a-/AOh14GhEuXdT7eQweUmRPW8_laJuPggSK6hfvpl5a6WBaA=s64",
      "userId": "15047218817161520419"
     },
     "user_tz": -240
    },
    "id": "f8YOXsQy58rP",
    "outputId": "2e1b0063-548e-4924-cf3a-93a79d97e35e"
   },
   "outputs": [
    {
     "data": {
      "text/plain": [
       "array([[0.83464078, 0.16535922],\n",
       "       [0.85621929, 0.14378071],\n",
       "       [0.9265064 , 0.0734936 ],\n",
       "       [0.70229399, 0.29770601],\n",
       "       [0.48264007, 0.51735993]])"
      ]
     },
     "execution_count": 137,
     "metadata": {},
     "output_type": "execute_result"
    }
   ],
   "source": [
    "# calcul des probabilités d'affectation\n",
    "\n",
    "# on affiche les 5 premières valeurs prédites\n"
   ]
  },
  {
   "cell_type": "markdown",
   "metadata": {},
   "source": [
    "On observe 2 colonnes : la première correspond au proba d'appartenir à Y=0 et la seconde à Y=1"
   ]
  },
  {
   "cell_type": "code",
   "execution_count": 138,
   "metadata": {
    "colab": {
     "base_uri": "https://localhost:8080/",
     "height": 34
    },
    "colab_type": "code",
    "executionInfo": {
     "elapsed": 2118,
     "status": "ok",
     "timestamp": 1588265315505,
     "user": {
      "displayName": "Hadelin de Ponteves",
      "photoUrl": "https://lh3.googleusercontent.com/a-/AOh14GhEuXdT7eQweUmRPW8_laJuPggSK6hfvpl5a6WBaA=s64",
      "userId": "15047218817161520419"
     },
     "user_tz": -240
    },
    "id": "f8YOXsQy58rP",
    "outputId": "2e1b0063-548e-4924-cf3a-93a79d97e35e"
   },
   "outputs": [
    {
     "name": "stdout",
     "output_type": "stream",
     "text": [
      "          Y=0       Y=1  valeur attendue\n",
      "569  0.834641  0.165359                0\n",
      "167  0.856219  0.143781                0\n",
      "435  0.926506  0.073494                0\n",
      "413  0.702294  0.297706                0\n",
      "344  0.482640  0.517360                1\n",
      "..        ...       ...              ...\n",
      "335  0.892892  0.107108                0\n",
      "305  0.733390  0.266610                1\n",
      "158  0.863535  0.136465                0\n",
      "401  0.923431  0.076569                0\n",
      "583  0.869559  0.130441                1\n",
      "\n",
      "[401 rows x 3 columns]\n"
     ]
    }
   ],
   "source": [
    "#et on les compare aux valeurs attendues\n"
   ]
  },
  {
   "cell_type": "markdown",
   "metadata": {
    "colab_type": "text",
    "id": "vKYVQH-l5NpE"
   },
   "source": [
    "## Faites des prédictions des résultats du test set"
   ]
  },
  {
   "cell_type": "code",
   "execution_count": 7,
   "metadata": {
    "colab": {
     "base_uri": "https://localhost:8080/",
     "height": 1000
    },
    "colab_type": "code",
    "executionInfo": {
     "elapsed": 2112,
     "status": "ok",
     "timestamp": 1588265315506,
     "user": {
      "displayName": "Hadelin de Ponteves",
      "photoUrl": "https://lh3.googleusercontent.com/a-/AOh14GhEuXdT7eQweUmRPW8_laJuPggSK6hfvpl5a6WBaA=s64",
      "userId": "15047218817161520419"
     },
     "user_tz": -240
    },
    "id": "p6VMTb2O4hwM",
    "outputId": "a4f03a97-2942-45cd-f735-f4063277a96c"
   },
   "outputs": [],
   "source": [
    "# nous devons appliquer la même standardisation sur les valeurs du test set ! \n",
    "\n",
    "#transformation de l'échantillon test\n",
    "\n",
    "\n",
    "#stat. descriptives\n",
    "#print(sci.stats.describe(X1_test,axis=0,ddof=0))\n",
    "\n",
    "# on applique le modèle à l'échantillon\n",
    "\n",
    "\n"
   ]
  },
  {
   "cell_type": "markdown",
   "metadata": {
    "colab_type": "text",
    "id": "h4Hwj34ziWQW"
   },
   "source": [
    "## Evaluez les performances du modèle à l'aide de la matrice de confusion "
   ]
  },
  {
   "cell_type": "code",
   "execution_count": 91,
   "metadata": {
    "colab": {
     "base_uri": "https://localhost:8080/",
     "height": 68
    },
    "colab_type": "code",
    "executionInfo": {
     "elapsed": 2107,
     "status": "ok",
     "timestamp": 1588265315506,
     "user": {
      "displayName": "Hadelin de Ponteves",
      "photoUrl": "https://lh3.googleusercontent.com/a-/AOh14GhEuXdT7eQweUmRPW8_laJuPggSK6hfvpl5a6WBaA=s64",
      "userId": "15047218817161520419"
     },
     "user_tz": -240
    },
    "id": "D6bpZwUiiXic",
    "outputId": "f202fcb3-5882-4d93-e5df-50791185067e"
   },
   "outputs": [
    {
     "name": "stdout",
     "output_type": "stream",
     "text": [
      "[[144   6]\n",
      " [ 41   9]]\n"
     ]
    }
   ],
   "source": [
    "# affichez la matrice de confusion\n",
    "cm = \n",
    "print(cm)"
   ]
  },
  {
   "cell_type": "markdown",
   "metadata": {},
   "source": [
    "- Combien y a t-il de faux positifs ? combien de faux négatifs ?\n",
    "- Combien d'éléments sont bien classés? \n",
    "- représentez la matrice de confusion sous la forme d'une heatmap"
   ]
  },
  {
   "cell_type": "code",
   "execution_count": 99,
   "metadata": {
    "colab": {
     "base_uri": "https://localhost:8080/",
     "height": 68
    },
    "colab_type": "code",
    "executionInfo": {
     "elapsed": 2107,
     "status": "ok",
     "timestamp": 1588265315506,
     "user": {
      "displayName": "Hadelin de Ponteves",
      "photoUrl": "https://lh3.googleusercontent.com/a-/AOh14GhEuXdT7eQweUmRPW8_laJuPggSK6hfvpl5a6WBaA=s64",
      "userId": "15047218817161520419"
     },
     "user_tz": -240
    },
    "id": "D6bpZwUiiXic",
    "outputId": "f202fcb3-5882-4d93-e5df-50791185067e"
   },
   "outputs": [
    {
     "name": "stdout",
     "output_type": "stream",
     "text": [
      "0.765\n"
     ]
    }
   ],
   "source": [
    "#affichez le taux d'erreur\n"
   ]
  },
  {
   "cell_type": "code",
   "execution_count": 102,
   "metadata": {},
   "outputs": [
    {
     "name": "stdout",
     "output_type": "stream",
     "text": [
      "              precision    recall  f1-score   support\n",
      "\n",
      "           0       0.78      0.96      0.86       150\n",
      "           1       0.60      0.18      0.28        50\n",
      "\n",
      "    accuracy                           0.77       200\n",
      "   macro avg       0.69      0.57      0.57       200\n",
      "weighted avg       0.73      0.77      0.71       200\n",
      "\n"
     ]
    }
   ],
   "source": [
    "#affichez le rapport de classification\n",
    "\n"
   ]
  },
  {
   "cell_type": "markdown",
   "metadata": {
    "colab_type": "text",
    "id": "6OMC_P0diaoD"
   },
   "source": [
    "# Utilisons Maintenant Stats.models"
   ]
  },
  {
   "cell_type": "markdown",
   "metadata": {},
   "source": [
    "## import des librairies"
   ]
  },
  {
   "cell_type": "code",
   "execution_count": 139,
   "metadata": {},
   "outputs": [],
   "source": [
    "#importez la librairie adéquate\n",
    "import numpy as np\n",
    "import statsmodels.api as sm\n",
    "from statsmodels.api import Logit"
   ]
  },
  {
   "cell_type": "markdown",
   "metadata": {},
   "source": [
    "## Preparez votre dataset"
   ]
  },
  {
   "cell_type": "code",
   "execution_count": 168,
   "metadata": {},
   "outputs": [
    {
     "name": "stdout",
     "output_type": "stream",
     "text": [
      "<class 'pandas.core.frame.DataFrame'>\n",
      "Int64Index: 401 entries, 569 to 583\n",
      "Data columns (total 9 columns):\n",
      " #   Column          Non-Null Count  Dtype  \n",
      "---  ------          --------------  -----  \n",
      " 0   const           401 non-null    float64\n",
      " 1   Sex             401 non-null    int64  \n",
      " 2   Age             401 non-null    float64\n",
      " 3   YearsMarried    401 non-null    float64\n",
      " 4   Children        401 non-null    int64  \n",
      " 5   Religious       401 non-null    int64  \n",
      " 6   Education       401 non-null    int64  \n",
      " 7   Occupation      401 non-null    int64  \n",
      " 8   RatingMarriage  401 non-null    int64  \n",
      "dtypes: float64(3), int64(6)\n",
      "memory usage: 31.3 KB\n",
      "None\n"
     ]
    }
   ],
   "source": [
    "#attention StatsModels ne prend pas en compte l'ordonnée àl'origine 𝑏₀! \n",
    "# vous devez inclure la colonne supplémentaire de \"1\" dans x. \n",
    "#faites cela avec add_constant ():\n",
    "\n",
    "from statsmodels.tools import add_constant\n",
    "#données X avec la constante\n",
    "\n",
    "#vérifier la structure, vous devez bien avoir une colonne en plus\n",
    "\n"
   ]
  },
  {
   "cell_type": "markdown",
   "metadata": {},
   "source": [
    "## Entrainez votre modèle"
   ]
  },
  {
   "cell_type": "code",
   "execution_count": 169,
   "metadata": {},
   "outputs": [
    {
     "name": "stdout",
     "output_type": "stream",
     "text": [
      "Optimization terminated successfully.\n",
      "         Current function value: 0.511723\n",
      "         Iterations 6\n"
     ]
    }
   ],
   "source": [
    "# Créez votre modèle de régression logistique \n",
    "\n",
    "#lancez les calculs\n"
   ]
  },
  {
   "cell_type": "code",
   "execution_count": 170,
   "metadata": {},
   "outputs": [
    {
     "data": {
      "text/plain": [
       "const             0.811794\n",
       "Sex              -0.040367\n",
       "Age              -0.016375\n",
       "YearsMarried      0.061595\n",
       "Children          0.101120\n",
       "Religious        -0.307265\n",
       "Education         0.043020\n",
       "Occupation        0.044014\n",
       "RatingMarriage   -0.508548\n",
       "dtype: float64"
      ]
     },
     "execution_count": 170,
     "metadata": {},
     "output_type": "execute_result"
    }
   ],
   "source": [
    "#pour accéder aux valeurs des coefficients, utilisez .params\n",
    "#Obtenez vous les même résulats que précedemment? \n"
   ]
  },
  {
   "cell_type": "code",
   "execution_count": 171,
   "metadata": {},
   "outputs": [
    {
     "data": {
      "text/html": [
       "<table class=\"simpletable\">\n",
       "<caption>Logit Regression Results</caption>\n",
       "<tr>\n",
       "  <th>Dep. Variable:</th>    <td>Infidelite</td>    <th>  No. Observations:  </th>  <td>   401</td>  \n",
       "</tr>\n",
       "<tr>\n",
       "  <th>Model:</th>               <td>Logit</td>      <th>  Df Residuals:      </th>  <td>   392</td>  \n",
       "</tr>\n",
       "<tr>\n",
       "  <th>Method:</th>               <td>MLE</td>       <th>  Df Model:          </th>  <td>     8</td>  \n",
       "</tr>\n",
       "<tr>\n",
       "  <th>Date:</th>          <td>Wed, 03 Feb 2021</td> <th>  Pseudo R-squ.:     </th>  <td>0.08889</td> \n",
       "</tr>\n",
       "<tr>\n",
       "  <th>Time:</th>              <td>21:09:34</td>     <th>  Log-Likelihood:    </th> <td> -205.20</td> \n",
       "</tr>\n",
       "<tr>\n",
       "  <th>converged:</th>           <td>True</td>       <th>  LL-Null:           </th> <td> -225.22</td> \n",
       "</tr>\n",
       "<tr>\n",
       "  <th> </th>                      <td> </td>        <th>  LLR p-value:       </th> <td>3.148e-06</td>\n",
       "</tr>\n",
       "</table>\n",
       "<table class=\"simpletable\">\n",
       "<tr>\n",
       "         <td></td>           <th>coef</th>     <th>std err</th>      <th>z</th>      <th>P>|z|</th>  <th>[0.025</th>    <th>0.975]</th>  \n",
       "</tr>\n",
       "<tr>\n",
       "  <th>const</th>          <td>    0.8118</td> <td>    1.040</td> <td>    0.780</td> <td> 0.435</td> <td>   -1.227</td> <td>    2.851</td>\n",
       "</tr>\n",
       "<tr>\n",
       "  <th>Sex</th>            <td>   -0.0404</td> <td>    0.289</td> <td>   -0.140</td> <td> 0.889</td> <td>   -0.607</td> <td>    0.526</td>\n",
       "</tr>\n",
       "<tr>\n",
       "  <th>Age</th>            <td>   -0.0164</td> <td>    0.021</td> <td>   -0.766</td> <td> 0.444</td> <td>   -0.058</td> <td>    0.026</td>\n",
       "</tr>\n",
       "<tr>\n",
       "  <th>YearsMarried</th>   <td>    0.0616</td> <td>    0.039</td> <td>    1.594</td> <td> 0.111</td> <td>   -0.014</td> <td>    0.137</td>\n",
       "</tr>\n",
       "<tr>\n",
       "  <th>Children</th>       <td>    0.1011</td> <td>    0.343</td> <td>    0.295</td> <td> 0.768</td> <td>   -0.570</td> <td>    0.773</td>\n",
       "</tr>\n",
       "<tr>\n",
       "  <th>Religious</th>      <td>   -0.3073</td> <td>    0.107</td> <td>   -2.867</td> <td> 0.004</td> <td>   -0.517</td> <td>   -0.097</td>\n",
       "</tr>\n",
       "<tr>\n",
       "  <th>Education</th>      <td>    0.0430</td> <td>    0.062</td> <td>    0.693</td> <td> 0.488</td> <td>   -0.079</td> <td>    0.165</td>\n",
       "</tr>\n",
       "<tr>\n",
       "  <th>Occupation</th>     <td>    0.0440</td> <td>    0.088</td> <td>    0.498</td> <td> 0.618</td> <td>   -0.129</td> <td>    0.217</td>\n",
       "</tr>\n",
       "<tr>\n",
       "  <th>RatingMarriage</th> <td>   -0.5085</td> <td>    0.112</td> <td>   -4.547</td> <td> 0.000</td> <td>   -0.728</td> <td>   -0.289</td>\n",
       "</tr>\n",
       "</table>"
      ],
      "text/plain": [
       "<class 'statsmodels.iolib.summary.Summary'>\n",
       "\"\"\"\n",
       "                           Logit Regression Results                           \n",
       "==============================================================================\n",
       "Dep. Variable:             Infidelite   No. Observations:                  401\n",
       "Model:                          Logit   Df Residuals:                      392\n",
       "Method:                           MLE   Df Model:                            8\n",
       "Date:                Wed, 03 Feb 2021   Pseudo R-squ.:                 0.08889\n",
       "Time:                        21:09:34   Log-Likelihood:                -205.20\n",
       "converged:                       True   LL-Null:                       -225.22\n",
       "                                        LLR p-value:                 3.148e-06\n",
       "==================================================================================\n",
       "                     coef    std err          z      P>|z|      [0.025      0.975]\n",
       "----------------------------------------------------------------------------------\n",
       "const              0.8118      1.040      0.780      0.435      -1.227       2.851\n",
       "Sex               -0.0404      0.289     -0.140      0.889      -0.607       0.526\n",
       "Age               -0.0164      0.021     -0.766      0.444      -0.058       0.026\n",
       "YearsMarried       0.0616      0.039      1.594      0.111      -0.014       0.137\n",
       "Children           0.1011      0.343      0.295      0.768      -0.570       0.773\n",
       "Religious         -0.3073      0.107     -2.867      0.004      -0.517      -0.097\n",
       "Education          0.0430      0.062      0.693      0.488      -0.079       0.165\n",
       "Occupation         0.0440      0.088      0.498      0.618      -0.129       0.217\n",
       "RatingMarriage    -0.5085      0.112     -4.547      0.000      -0.728      -0.289\n",
       "==================================================================================\n",
       "\"\"\""
      ]
     },
     "execution_count": 171,
     "metadata": {},
     "output_type": "execute_result"
    }
   ],
   "source": [
    "# affichez le rapport des metriques avec stat.model. Il est possible d'utiliser .summary() soit .summary2()\n",
    "#pour plus d'infos : https://www.statsmodels.org/stable/generated/statsmodels.discrete.discrete_model.LogitResults.html"
   ]
  },
  {
   "cell_type": "markdown",
   "metadata": {},
   "source": [
    "## Faites des prédictions des résultats du test set"
   ]
  },
  {
   "cell_type": "code",
   "execution_count": 8,
   "metadata": {},
   "outputs": [],
   "source": [
    "#affichez les probabilités de prédiction\n"
   ]
  },
  {
   "cell_type": "code",
   "execution_count": 222,
   "metadata": {},
   "outputs": [],
   "source": [
    "#utilisez les pour afficher les valeurs de y en ayant établi un seuil à 0.5\n"
   ]
  },
  {
   "cell_type": "markdown",
   "metadata": {},
   "source": [
    "## Evaluez les performances du modèle à l'aide de la matrice de confusion"
   ]
  },
  {
   "cell_type": "code",
   "execution_count": 234,
   "metadata": {},
   "outputs": [
    {
     "name": "stdout",
     "output_type": "stream",
     "text": [
      "col_0         0  1\n",
      "Infidelite        \n",
      "0           144  6\n",
      "1            41  9\n"
     ]
    }
   ],
   "source": [
    "#obtenez la matrice de confusion avec crosstable\n"
   ]
  },
  {
   "cell_type": "code",
   "execution_count": 242,
   "metadata": {},
   "outputs": [
    {
     "name": "stdout",
     "output_type": "stream",
     "text": [
      "Taux de reconnaissance : 0.765\n",
      "Taux d'erreur' :  0.235\n"
     ]
    }
   ],
   "source": [
    "#calculez également le taux de reconnaissance et le taux d'erreur  : (taux d'erreur = 1- taux de reconnaissance)\n",
    "\n",
    "\n",
    "#taux d'erreur\n"
   ]
  },
  {
   "cell_type": "markdown",
   "metadata": {},
   "source": [
    "Obtenez vous bien les même résultats que précédement ?"
   ]
  },
  {
   "cell_type": "markdown",
   "metadata": {},
   "source": [
    "## Evaluez les performances du modèle à l'aide du diagramme de fiabilité\n",
    "\n",
    "\n",
    "Le diagramme de fiabilité est un outil de diagnostic graphique. Il oppose les proba d'affectation à la valeur \"Y=1\" estimés par le modèle(appelés scores)  aux affectations observées. S’ils forment une droite, nous pouvons considérer que la modélisation est\n",
    "pertinente car le modèle arrive à approcher de manière satisfaisante l’appartenance aux classes des\n",
    "individus.\n",
    "\n",
    "Voici les principales étapes de la construction du diagramme de fiabilité :\n",
    "1. Appliquer le classifier sur les données pour obtenir le score.\n",
    "2. Trier le fichier selon le score croissant.\n",
    "3. Sur la base du score, subdiviser les données en intervalles (ex. 0.0-0.2, 0.2-0.4, etc.).\n",
    "4. Dans chaque intervalle, calculer la proportion de positifs.\n",
    "5. Dans le même temps, toujours dans chaque intervalle, calculer la moyenne des scores.\n",
    "6. Si les chiffres concordent dans chaque intervalle, les scores sont bien calibrés, le classifieur est de bonne qualité.\n",
    "7. Nous pouvons résumer l'information dans un graphique nuage de points appelé diagramme de fiabilité, avec en abcisse la moyenne des scores, en ordonnée la proportion de \"positifs\".\n",
    "8. Si les scores sont bien calibrés, les points devraient être alignés sur une droite, la première bissectrice.\n",
    "9. Les points s'écartant sensiblement de la première bissectrice doivent attirer notre attention"
   ]
  },
  {
   "cell_type": "code",
   "execution_count": 224,
   "metadata": {},
   "outputs": [],
   "source": [
    "# on cré un tableau temporaire avec les valeurs de y observées et les scores\n"
   ]
  },
  {
   "cell_type": "code",
   "execution_count": 225,
   "metadata": {},
   "outputs": [
    {
     "name": "stdout",
     "output_type": "stream",
     "text": [
      "     y     score       intervalle\n",
      "129  0  0.397588   (0.313, 0.439]\n",
      "343  0  0.169954  (0.0577, 0.186]\n",
      "382  0  0.210396   (0.186, 0.313]\n",
      "514  0  0.223260   (0.186, 0.313]\n",
      "404  0  0.321415   (0.313, 0.439]\n",
      "..  ..       ...              ...\n",
      "358  0  0.076253  (0.0577, 0.186]\n",
      "235  0  0.255256   (0.186, 0.313]\n",
      "68   0  0.166297  (0.0577, 0.186]\n",
      "255  0  0.270479   (0.186, 0.313]\n",
      "139  0  0.344754   (0.313, 0.439]\n",
      "\n",
      "[200 rows x 3 columns]\n"
     ]
    }
   ],
   "source": [
    "# on sépare les scores en 5 intervalles de largeur égales\n",
    "\n",
    "#et on les intègre dans le df\n",
    "\n"
   ]
  },
  {
   "cell_type": "code",
   "execution_count": 226,
   "metadata": {},
   "outputs": [
    {
     "name": "stdout",
     "output_type": "stream",
     "text": [
      "                    score\n",
      "intervalle               \n",
      "(0.0577, 0.186]  0.129337\n",
      "(0.186, 0.313]   0.234297\n",
      "(0.313, 0.439]   0.358634\n",
      "(0.439, 0.566]   0.509728\n",
      "(0.566, 0.692]   0.620552\n"
     ]
    }
   ],
   "source": [
    "# on calcule la moyenne des scores dans chaque groupe à l'aide de pivot_table\n"
   ]
  },
  {
   "cell_type": "code",
   "execution_count": 227,
   "metadata": {},
   "outputs": [
    {
     "name": "stdout",
     "output_type": "stream",
     "text": [
      "                        y\n",
      "intervalle               \n",
      "(0.0577, 0.186]  0.178571\n",
      "(0.186, 0.313]   0.192982\n",
      "(0.313, 0.439]   0.341463\n",
      "(0.439, 0.566]   0.400000\n",
      "(0.566, 0.692]   0.750000\n"
     ]
    }
   ],
   "source": [
    "# puis la moyenne des y observés\n",
    "\n"
   ]
  },
  {
   "cell_type": "code",
   "execution_count": 228,
   "metadata": {},
   "outputs": [
    {
     "data": {
      "image/png": "[encoded data removed]",
      "text/plain": [
       "<Figure size 432x288 with 1 Axes>"
      ]
     },
     "metadata": {},
     "output_type": "display_data"
    }
   ],
   "source": [
    "# on construit le diagramme \n",
    "#en faisant apparaitre la diagonale\n",
    "\n",
    "#et en ajoutant notre diagramme\n",
    "\n",
    "#titre\n",
    "plt.title(\"Diagramme de fiabilité\")\n",
    "#tracé\n",
    "plt.show()\n"
   ]
  },
  {
   "cell_type": "markdown",
   "metadata": {},
   "source": [
    "les points sont tout de même éloignés de la bissectrice, le modèle peut être amélioré"
   ]
  },
  {
   "cell_type": "markdown",
   "metadata": {},
   "source": [
    "## Evaluez les performances du modèle à l'aide de la courbe ROC"
   ]
  },
  {
   "cell_type": "markdown",
   "metadata": {},
   "source": [
    "Pour évaluer un modèle le taux d’erreur semble être un indicateur synthétique pertinent, il indique (estime) la probabilité de mal classer un individu de la population.\n",
    "Les autres indicateurs sont très intéressants également (sensibilité/rappel,précision/spécificité) mais obligent à surveiller plusieurs valeurs simultanément.\n",
    "\n",
    "Mais lorsque les classes sont très déséquilibrées, la matrice de confusion et surtout le\n",
    "taux d’erreur donnent souvent une fausse idée de la qualité de l’apprentissage. Doù l'intérêt de la courbe ROC!\n",
    "les résultats qu'elle fournit sont valables même si l'échantillon n'est pas représentatif\n",
    "\n",
    "cas du modèle qui ne fait pas mieux que l’affectation des probabilités\n",
    "- notre courbe ne doit pas passer en dessous\n",
    "- plus il s’en écarte vers le haut, mieux c’est"
   ]
  },
  {
   "cell_type": "code",
   "execution_count": 247,
   "metadata": {},
   "outputs": [
    {
     "data": {
      "image/png": "[encoded data removed]",
      "text/plain": [
       "<Figure size 432x288 with 1 Axes>"
      ]
     },
     "metadata": {},
     "output_type": "display_data"
    }
   ],
   "source": [
    "# on utilise roc_curve (scikit- learn )\n",
    "# on trace la diagonale de référence\n",
    "#fpr (false positive rate -- taux de faux positifs) en abscisse\n",
    "#tpr (true positive rate – taux de vrais positifs) en ordonnée\n",
    "#pos_label = 1 pour indiquer la modalité cible\n"
   ]
  },
  {
   "cell_type": "code",
   "execution_count": 251,
   "metadata": {},
   "outputs": [
    {
     "name": "stdout",
     "output_type": "stream",
     "text": [
      "AUC : 0.6934\n"
     ]
    }
   ],
   "source": [
    "# on calcule l'aire sous la courbe en faisant appel à la fonction roc_auc_score()\n"
   ]
  },
  {
   "cell_type": "markdown",
   "metadata": {},
   "source": [
    "## Ajustez votre modèle"
   ]
  },
  {
   "cell_type": "markdown",
   "metadata": {},
   "source": [
    "## Selection des variables au regard de leur significativité : approche statistique "
   ]
  },
  {
   "cell_type": "markdown",
   "metadata": {},
   "source": [
    "### Via le test du rapport de vraisemblance"
   ]
  },
  {
   "cell_type": "code",
   "execution_count": null,
   "metadata": {},
   "outputs": [],
   "source": []
  }
 ],
 "metadata": {
  "colab": {
   "authorship_tag": "ABX9TyOsvB/iqEjYj3VN6C/JbvkE",
   "collapsed_sections": [],
   "machine_shape": "hm",
   "name": "logistic_regression.ipynb",
   "provenance": [],
   "toc_visible": true
  },
  "kernelspec": {
   "display_name": "Python 3",
   "language": "python",
   "name": "python3"
  },
  "language_info": {
   "codemirror_mode": {
    "name": "ipython",
    "version": 3
   },
   "file_extension": ".py",
   "mimetype": "text/x-python",
   "name": "python",
   "nbconvert_exporter": "python",
   "pygments_lexer": "ipython3",
   "version": "3.10.1"
  }
 },
 "nbformat": 4,
 "nbformat_minor": 1
}
