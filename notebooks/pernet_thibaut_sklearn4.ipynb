{
 "cells": [
  {
   "cell_type": "markdown",
   "metadata": {},
   "source": [
    " # Objectif : Prédire la dangerosité d’une tumeur\n",
    "  # arbre de décision vs  random forest\n"
   ]
  },
  {
   "cell_type": "markdown",
   "metadata": {},
   "source": [
    "## Phase exploratoire"
   ]
  },
  {
   "cell_type": "markdown",
   "metadata": {},
   "source": [
    "1. Importer vos librairies et votre dataset"
   ]
  },
  {
   "cell_type": "code",
   "execution_count": 2,
   "metadata": {},
   "outputs": [],
   "source": [
    "import numpy as np\n",
    "import seaborn as sns\n",
    "import matplotlib.pyplot as plt\n",
    "from matplotlib.ticker import MultipleLocator, FormatStrFormatter\n",
    "%matplotlib inline\n",
    "import pandas as pd\n",
    "import sklearn\n",
    "from sklearn.model_selection import train_test_split\n",
    "from sklearn.tree import DecisionTreeClassifier\n",
    "from sklearn.tree import plot_tree\n",
    "from sklearn.tree import export_text\n",
    "\n",
    "df = pd.read_csv('../datasets/breast-cancer-wisconsin.data')"
   ]
  },
  {
   "cell_type": "markdown",
   "metadata": {},
   "source": [
    "2. Explorer votre dataset en affichant les informations descriptives relatives aux variables"
   ]
  },
  {
   "cell_type": "code",
   "execution_count": 3,
   "metadata": {},
   "outputs": [
    {
     "name": "stdout",
     "output_type": "stream",
     "text": [
      "<class 'pandas.core.frame.DataFrame'>\n",
      "RangeIndex: 698 entries, 0 to 697\n",
      "Data columns (total 11 columns):\n",
      " #   Column                       Non-Null Count  Dtype \n",
      "---  ------                       --------------  ----- \n",
      " 0   id                           698 non-null    int64 \n",
      " 1   Clump Thickness              698 non-null    int64 \n",
      " 2   Uniformity of Cell Size      698 non-null    int64 \n",
      " 3   Uniformity of Cell Shape     698 non-null    int64 \n",
      " 4   Marginal Adhesion            698 non-null    int64 \n",
      " 5   Single Epithelial Cell Size  698 non-null    int64 \n",
      " 6   Bare Nuclei                  698 non-null    object\n",
      " 7   Bland Chromatin              698 non-null    int64 \n",
      " 8   Normal Nucleoli              698 non-null    int64 \n",
      " 9   Mitoses                      698 non-null    int64 \n",
      " 10  Class                        698 non-null    int64 \n",
      "dtypes: int64(10), object(1)\n",
      "memory usage: 60.1+ KB\n"
     ]
    }
   ],
   "source": [
    "df.columns = ['id','Clump Thickness', 'Uniformity of Cell Size', 'Uniformity of Cell Shape', 'Marginal Adhesion', \n",
    "              'Single Epithelial Cell Size', 'Bare Nuclei', 'Bland Chromatin', 'Normal Nucleoli', 'Mitoses', 'Class']\n",
    "df.info()"
   ]
  },
  {
   "cell_type": "code",
   "execution_count": 4,
   "metadata": {},
   "outputs": [],
   "source": [
    "# j'essaie de trouver les valeurs manquantes/ nulles ou toutes autres données qui pourraient poser problème \n",
    "#df.isna().sum()\n",
    "#df.isnull().sum()\n",
    "#df.shape\n",
    "df.loc[df[\"Bare Nuclei\"] == \"?\",\"Bare Nuclei\"] = 0\n",
    "df= df.astype({\"Bare Nuclei\": int})\n",
    "df= df.convert_dtypes()\n",
    "#df = df.convert_objects(convert_numeric=True)"
   ]
  },
  {
   "cell_type": "code",
   "execution_count": 5,
   "metadata": {},
   "outputs": [
    {
     "name": "stdout",
     "output_type": "stream",
     "text": [
      "<class 'pandas.core.frame.DataFrame'>\n",
      "RangeIndex: 698 entries, 0 to 697\n",
      "Data columns (total 11 columns):\n",
      " #   Column                       Non-Null Count  Dtype\n",
      "---  ------                       --------------  -----\n",
      " 0   id                           698 non-null    Int64\n",
      " 1   Clump Thickness              698 non-null    Int64\n",
      " 2   Uniformity of Cell Size      698 non-null    Int64\n",
      " 3   Uniformity of Cell Shape     698 non-null    Int64\n",
      " 4   Marginal Adhesion            698 non-null    Int64\n",
      " 5   Single Epithelial Cell Size  698 non-null    Int64\n",
      " 6   Bare Nuclei                  698 non-null    Int32\n",
      " 7   Bland Chromatin              698 non-null    Int64\n",
      " 8   Normal Nucleoli              698 non-null    Int64\n",
      " 9   Mitoses                      698 non-null    Int64\n",
      " 10  Class                        698 non-null    Int64\n",
      "dtypes: Int32(1), Int64(10)\n",
      "memory usage: 64.9 KB\n"
     ]
    }
   ],
   "source": [
    "df[\"Bare Nuclei\"].astype('int64')\n",
    "df.info()"
   ]
  },
  {
   "cell_type": "code",
   "execution_count": 6,
   "metadata": {},
   "outputs": [
    {
     "data": {
      "text/html": [
       "<div>\n",
       "<style scoped>\n",
       "    .dataframe tbody tr th:only-of-type {\n",
       "        vertical-align: middle;\n",
       "    }\n",
       "\n",
       "    .dataframe tbody tr th {\n",
       "        vertical-align: top;\n",
       "    }\n",
       "\n",
       "    .dataframe thead th {\n",
       "        text-align: right;\n",
       "    }\n",
       "</style>\n",
       "<table border=\"1\" class=\"dataframe\">\n",
       "  <thead>\n",
       "    <tr style=\"text-align: right;\">\n",
       "      <th></th>\n",
       "      <th>id</th>\n",
       "      <th>Clump Thickness</th>\n",
       "      <th>Uniformity of Cell Size</th>\n",
       "      <th>Uniformity of Cell Shape</th>\n",
       "      <th>Marginal Adhesion</th>\n",
       "      <th>Single Epithelial Cell Size</th>\n",
       "      <th>Bare Nuclei</th>\n",
       "      <th>Bland Chromatin</th>\n",
       "      <th>Normal Nucleoli</th>\n",
       "      <th>Mitoses</th>\n",
       "      <th>Class</th>\n",
       "    </tr>\n",
       "  </thead>\n",
       "  <tbody>\n",
       "    <tr>\n",
       "      <th>0</th>\n",
       "      <td>1002945</td>\n",
       "      <td>5</td>\n",
       "      <td>4</td>\n",
       "      <td>4</td>\n",
       "      <td>5</td>\n",
       "      <td>7</td>\n",
       "      <td>10</td>\n",
       "      <td>3</td>\n",
       "      <td>2</td>\n",
       "      <td>1</td>\n",
       "      <td>2</td>\n",
       "    </tr>\n",
       "    <tr>\n",
       "      <th>1</th>\n",
       "      <td>1015425</td>\n",
       "      <td>3</td>\n",
       "      <td>1</td>\n",
       "      <td>1</td>\n",
       "      <td>1</td>\n",
       "      <td>2</td>\n",
       "      <td>2</td>\n",
       "      <td>3</td>\n",
       "      <td>1</td>\n",
       "      <td>1</td>\n",
       "      <td>2</td>\n",
       "    </tr>\n",
       "    <tr>\n",
       "      <th>2</th>\n",
       "      <td>1016277</td>\n",
       "      <td>6</td>\n",
       "      <td>8</td>\n",
       "      <td>8</td>\n",
       "      <td>1</td>\n",
       "      <td>3</td>\n",
       "      <td>4</td>\n",
       "      <td>3</td>\n",
       "      <td>7</td>\n",
       "      <td>1</td>\n",
       "      <td>2</td>\n",
       "    </tr>\n",
       "    <tr>\n",
       "      <th>3</th>\n",
       "      <td>1017023</td>\n",
       "      <td>4</td>\n",
       "      <td>1</td>\n",
       "      <td>1</td>\n",
       "      <td>3</td>\n",
       "      <td>2</td>\n",
       "      <td>1</td>\n",
       "      <td>3</td>\n",
       "      <td>1</td>\n",
       "      <td>1</td>\n",
       "      <td>2</td>\n",
       "    </tr>\n",
       "    <tr>\n",
       "      <th>4</th>\n",
       "      <td>1017122</td>\n",
       "      <td>8</td>\n",
       "      <td>10</td>\n",
       "      <td>10</td>\n",
       "      <td>8</td>\n",
       "      <td>7</td>\n",
       "      <td>10</td>\n",
       "      <td>9</td>\n",
       "      <td>7</td>\n",
       "      <td>1</td>\n",
       "      <td>4</td>\n",
       "    </tr>\n",
       "  </tbody>\n",
       "</table>\n",
       "</div>"
      ],
      "text/plain": [
       "        id  Clump Thickness  Uniformity of Cell Size  \\\n",
       "0  1002945                5                        4   \n",
       "1  1015425                3                        1   \n",
       "2  1016277                6                        8   \n",
       "3  1017023                4                        1   \n",
       "4  1017122                8                       10   \n",
       "\n",
       "   Uniformity of Cell Shape  Marginal Adhesion  Single Epithelial Cell Size  \\\n",
       "0                         4                  5                            7   \n",
       "1                         1                  1                            2   \n",
       "2                         8                  1                            3   \n",
       "3                         1                  3                            2   \n",
       "4                        10                  8                            7   \n",
       "\n",
       "   Bare Nuclei  Bland Chromatin  Normal Nucleoli  Mitoses  Class  \n",
       "0           10                3                2        1      2  \n",
       "1            2                3                1        1      2  \n",
       "2            4                3                7        1      2  \n",
       "3            1                3                1        1      2  \n",
       "4           10                9                7        1      4  "
      ]
     },
     "execution_count": 6,
     "metadata": {},
     "output_type": "execute_result"
    }
   ],
   "source": [
    "df.head()"
   ]
  },
  {
   "cell_type": "code",
   "execution_count": 7,
   "metadata": {},
   "outputs": [],
   "source": [
    "# sns.pairplot(df)"
   ]
  },
  {
   "cell_type": "code",
   "execution_count": 8,
   "metadata": {},
   "outputs": [
    {
     "data": {
      "text/plain": [
       "(698, 11)"
      ]
     },
     "execution_count": 8,
     "metadata": {},
     "output_type": "execute_result"
    }
   ],
   "source": [
    "df.shape"
   ]
  },
  {
   "cell_type": "code",
   "execution_count": 9,
   "metadata": {},
   "outputs": [
    {
     "data": {
      "text/plain": [
       "Text(0, 0.5, 'fréquence')"
      ]
     },
     "execution_count": 9,
     "metadata": {},
     "output_type": "execute_result"
    },
    {
     "data": {
      "image/png": "[encoded data removed]",
      "text/plain": [
       "<Figure size 432x288 with 1 Axes>"
      ]
     },
     "metadata": {
      "needs_background": "light"
     },
     "output_type": "display_data"
    }
   ],
   "source": [
    "#visualisation des données\n",
    "plt.hist(df.Class, bins=2, color = \"gray\", edgecolor = 'red')\n",
    "plt.title('histogramme',fontsize = 20)\n",
    "plt.xlabel('tumeur',fontsize = 16)\n",
    "plt.ylabel('fréquence', fontsize = 16)\n",
    "#ax = plt.axes()\n",
    "#ax.xaxis.set_major_locator(MultipleLocator(2))"
   ]
  },
  {
   "cell_type": "code",
   "execution_count": 10,
   "metadata": {},
   "outputs": [
    {
     "data": {
      "text/plain": [
       "2    457\n",
       "4    241\n",
       "Name: Class, dtype: Int64"
      ]
     },
     "execution_count": 10,
     "metadata": {},
     "output_type": "execute_result"
    }
   ],
   "source": [
    "#vérifier la distribution absolue des catégories de tumeurs\n",
    "df.Class.value_counts()"
   ]
  },
  {
   "cell_type": "code",
   "execution_count": 11,
   "metadata": {},
   "outputs": [
    {
     "data": {
      "text/plain": [
       "2    0.654728\n",
       "4    0.345272\n",
       "Name: Class, dtype: Float64"
      ]
     },
     "execution_count": 11,
     "metadata": {},
     "output_type": "execute_result"
    }
   ],
   "source": [
    "#la distribution relative des catégories de tumeurs\n",
    "df.Class.value_counts(normalize=True)"
   ]
  },
  {
   "cell_type": "markdown",
   "metadata": {},
   "source": [
    "3. Nous souhaitons réserver 390 observations pour l’entraînement et 297 pour le test, avec un échantillonnage qui respectent les proportions des classes dans les deux sous-ensembles (stratify)"
   ]
  },
  {
   "cell_type": "code",
   "execution_count": 12,
   "metadata": {},
   "outputs": [],
   "source": [
    "X = df.drop(\"Class\", axis=1)\n",
    "y_series = df[\"Class\"]\n",
    "y = pd.DataFrame(y_series)\n",
    "X_train, X_test, y_train, y_test = train_test_split(X,y,test_size=300,random_state=1,stratify=df.Class)"
   ]
  },
  {
   "cell_type": "code",
   "execution_count": 13,
   "metadata": {},
   "outputs": [
    {
     "data": {
      "text/plain": [
       "((398, 1), (300, 1))"
      ]
     },
     "execution_count": 13,
     "metadata": {},
     "output_type": "execute_result"
    }
   ],
   "source": [
    "#vérification des dimensions\n",
    "y_train.shape , y_test.shape"
   ]
  },
  {
   "cell_type": "code",
   "execution_count": 14,
   "metadata": {},
   "outputs": [
    {
     "data": {
      "text/plain": [
       "Class\n",
       "2        0.655779\n",
       "4        0.344221\n",
       "dtype: float64"
      ]
     },
     "execution_count": 14,
     "metadata": {},
     "output_type": "execute_result"
    }
   ],
   "source": [
    "#vérification des distributions en apprentissage\n",
    "y_train.value_counts(normalize=True)"
   ]
  },
  {
   "cell_type": "code",
   "execution_count": 15,
   "metadata": {},
   "outputs": [
    {
     "data": {
      "text/plain": [
       "Class\n",
       "2        0.653333\n",
       "4        0.346667\n",
       "dtype: float64"
      ]
     },
     "execution_count": 15,
     "metadata": {},
     "output_type": "execute_result"
    }
   ],
   "source": [
    "#vérification des distributions en test\n",
    "y_test.value_counts(normalize=True)"
   ]
  },
  {
   "cell_type": "markdown",
   "metadata": {},
   "source": [
    "## Modélisation : arbre de décision"
   ]
  },
  {
   "cell_type": "markdown",
   "metadata": {},
   "source": [
    "1. Instancier l’ arbre de décision avec deux paramètres suivants : \n",
    "     - un sommet n’est pas segmenté s’il est composé de moins de 30 individus\n",
    "     - une segmentation est validée si et seulement si les feuilles générées comportent tous au moins 10 observations\n"
   ]
  },
  {
   "cell_type": "code",
   "execution_count": 16,
   "metadata": {},
   "outputs": [],
   "source": [
    "arbreFirst = DecisionTreeClassifier(min_samples_split=30,min_samples_leaf=10)"
   ]
  },
  {
   "cell_type": "markdown",
   "metadata": {},
   "source": [
    "2. Entraîner votre modèle"
   ]
  },
  {
   "cell_type": "code",
   "execution_count": 17,
   "metadata": {},
   "outputs": [
    {
     "data": {
      "text/plain": [
       "DecisionTreeClassifier(min_samples_leaf=10, min_samples_split=30)"
      ]
     },
     "execution_count": 17,
     "metadata": {},
     "output_type": "execute_result"
    }
   ],
   "source": [
    "arbreFirst.fit(X_train, y_train)"
   ]
  },
  {
   "cell_type": "code",
   "execution_count": 18,
   "metadata": {},
   "outputs": [
    {
     "data": {
      "image/png": "[encoded data removed]",
      "text/plain": [
       "<Figure size 1440x720 with 1 Axes>"
      ]
     },
     "metadata": {
      "needs_background": "light"
     },
     "output_type": "display_data"
    }
   ],
   "source": [
    "#affichage de l'arbre \n",
    "import matplotlib.pyplot as plt\n",
    "plt.figure(figsize=(20,10))\n",
    "plot_tree(arbreFirst,feature_names = list(df.columns[:-1]),filled=True)\n",
    "plt.show()"
   ]
  },
  {
   "cell_type": "markdown",
   "metadata": {},
   "source": [
    "Interprétation : nous avons bien 8 feuilles dans l'arbre . Il produit donc 8 règles prédictives matérialisées par les chemins partant de la racine aux feuilles. Nous observons l’effectif de l’échantillon d’apprentissage sur la racine de l’arbre (nRacine = n = samples = 398) avec 261 ‘’benine et 138 ‘’maligne’’ .\n",
    "\n"
   ]
  },
  {
   "cell_type": "markdown",
   "metadata": {},
   "source": [
    "Quelques remarques : \n",
    "  -      Les sommets sont teintés (c’est le rôle de l’option filled = True) selon la classe majoritaire qu’ils portent, avec plus ou moins d’intensité selon la concentration des effectifs. Ici, le bleu est 'maligne', l’orange 'benin’.\n",
    "  -     Uniformity of cell size est la variable de segmentation sur la racine, avec la condition  ≤ 2.5\n",
    "  -     Plus la valeur de l’indice de Gini est faible, plus les classes sont concentrées sur un sommet.\n",
    "  -     Nous pouvons simplifier l’arbre en retirant les feuilles issues du même père qui portent des conclusions identiques. En procédant ainsi de bas en haut (bottom-up), nous effectuons un processus (simplifié) de post-élagage qui permet de réduire la taille de l’arbre sans modifier en aucune manière ses propriétés prédictives. (on verra ça plus bas) \n",
    "\n"
   ]
  },
  {
   "cell_type": "markdown",
   "metadata": {},
   "source": [
    "Une dernière Remarque : on pourrrait se dire que les variables discriminantes sont celles qui apparaissent dans les divisions optimales qui définissent l’arbre. Malheureusement, ce n’est pas le cas. En effet, lors de la construction de l’arbre , à chacune des étapes, la division choisie est celle qui maximise la variation d’hétérogénéité. Mais, il se peut qu’une autre division, impliquant la même ou une autre variable explicative, puisse avoir une variation d’hétérogénéité très proche de l’optimale, tout en étant inférieure. Ce sont ce que l’on appelle les variables cachées. Par conséquent, on s’aperçoit que déterminer les variables explicatives les plus “importantes” à partir de la lecture graphique de l’arbre est quasiment impossible. C’est la raison pour laquelle, on introduit la notion d’importance des variables, notion étroitement liée à un arbre"
   ]
  },
  {
   "cell_type": "code",
   "execution_count": 19,
   "metadata": {},
   "outputs": [
    {
     "data": {
      "text/html": [
       "<div>\n",
       "<style scoped>\n",
       "    .dataframe tbody tr th:only-of-type {\n",
       "        vertical-align: middle;\n",
       "    }\n",
       "\n",
       "    .dataframe tbody tr th {\n",
       "        vertical-align: top;\n",
       "    }\n",
       "\n",
       "    .dataframe thead th {\n",
       "        text-align: right;\n",
       "    }\n",
       "</style>\n",
       "<table border=\"1\" class=\"dataframe\">\n",
       "  <thead>\n",
       "    <tr style=\"text-align: right;\">\n",
       "      <th></th>\n",
       "      <th>Variable</th>\n",
       "      <th>Importance</th>\n",
       "    </tr>\n",
       "  </thead>\n",
       "  <tbody>\n",
       "    <tr>\n",
       "      <th>2</th>\n",
       "      <td>Uniformity of Cell Size</td>\n",
       "      <td>0.876897</td>\n",
       "    </tr>\n",
       "    <tr>\n",
       "      <th>7</th>\n",
       "      <td>Bland Chromatin</td>\n",
       "      <td>0.086712</td>\n",
       "    </tr>\n",
       "    <tr>\n",
       "      <th>1</th>\n",
       "      <td>Clump Thickness</td>\n",
       "      <td>0.019416</td>\n",
       "    </tr>\n",
       "    <tr>\n",
       "      <th>6</th>\n",
       "      <td>Bare Nuclei</td>\n",
       "      <td>0.016036</td>\n",
       "    </tr>\n",
       "    <tr>\n",
       "      <th>8</th>\n",
       "      <td>Normal Nucleoli</td>\n",
       "      <td>0.000939</td>\n",
       "    </tr>\n",
       "    <tr>\n",
       "      <th>0</th>\n",
       "      <td>id</td>\n",
       "      <td>0.000000</td>\n",
       "    </tr>\n",
       "    <tr>\n",
       "      <th>3</th>\n",
       "      <td>Uniformity of Cell Shape</td>\n",
       "      <td>0.000000</td>\n",
       "    </tr>\n",
       "    <tr>\n",
       "      <th>4</th>\n",
       "      <td>Marginal Adhesion</td>\n",
       "      <td>0.000000</td>\n",
       "    </tr>\n",
       "    <tr>\n",
       "      <th>5</th>\n",
       "      <td>Single Epithelial Cell Size</td>\n",
       "      <td>0.000000</td>\n",
       "    </tr>\n",
       "    <tr>\n",
       "      <th>9</th>\n",
       "      <td>Mitoses</td>\n",
       "      <td>0.000000</td>\n",
       "    </tr>\n",
       "  </tbody>\n",
       "</table>\n",
       "</div>"
      ],
      "text/plain": [
       "                      Variable  Importance\n",
       "2      Uniformity of Cell Size    0.876897\n",
       "7              Bland Chromatin    0.086712\n",
       "1              Clump Thickness    0.019416\n",
       "6                  Bare Nuclei    0.016036\n",
       "8              Normal Nucleoli    0.000939\n",
       "0                           id    0.000000\n",
       "3     Uniformity of Cell Shape    0.000000\n",
       "4            Marginal Adhesion    0.000000\n",
       "5  Single Epithelial Cell Size    0.000000\n",
       "9                      Mitoses    0.000000"
      ]
     },
     "execution_count": 19,
     "metadata": {},
     "output_type": "execute_result"
    }
   ],
   "source": [
    "# importance des variables à l'aide de la méthode ’.feature_importances_’\n",
    "impVarFirst={\"Variable\":df.columns[:-1],\"Importance\":arbreFirst.feature_importances_}\n",
    "pd.DataFrame(impVarFirst).sort_values(by=\"Importance\",ascending=False)"
   ]
  },
  {
   "cell_type": "markdown",
   "metadata": {},
   "source": [
    "3. Réaliser les prédictions sur l'échantillon test"
   ]
  },
  {
   "cell_type": "code",
   "execution_count": 20,
   "metadata": {},
   "outputs": [
    {
     "data": {
      "text/plain": [
       "(array([2., 4.]), array([190, 110], dtype=int64))"
      ]
     },
     "execution_count": 20,
     "metadata": {},
     "output_type": "execute_result"
    }
   ],
   "source": [
    "predFirst = arbreFirst.predict(X_test)\n",
    "np.unique(predFirst,return_counts=True)"
   ]
  },
  {
   "cell_type": "markdown",
   "metadata": {},
   "source": [
    "La classe ‘benin’ a été assignée à 190 observations et 110 pour maligne. Est ce correct ?.  Pour le savoir, nous confrontons les classes observées et prédites via la matrice de confusion."
   ]
  },
  {
   "cell_type": "markdown",
   "metadata": {},
   "source": [
    "4. Afficher la matrice de confusion"
   ]
  },
  {
   "cell_type": "code",
   "execution_count": 23,
   "metadata": {},
   "outputs": [
    {
     "name": "stdout",
     "output_type": "stream",
     "text": [
      "<class 'pandas.core.frame.DataFrame'>\n",
      "<class 'numpy.ndarray'>\n",
      "[[180  16]\n",
      " [ 10  94]]\n"
     ]
    }
   ],
   "source": [
    "#matrice de confusion\n",
    "from sklearn import metrics\n",
    "y_test = y_test.astype(int)\n",
    "print(type(y_test))\n",
    "print(type(predFirst))\n",
    "print(metrics.confusion_matrix(y_test,predFirst))"
   ]
  },
  {
   "cell_type": "markdown",
   "metadata": {},
   "source": [
    "5. afficher la précision et le rappel"
   ]
  },
  {
   "cell_type": "code",
   "execution_count": 24,
   "metadata": {},
   "outputs": [
    {
     "name": "stdout",
     "output_type": "stream",
     "text": [
      "              precision    recall  f1-score   support\n",
      "\n",
      "           2       0.95      0.92      0.93       196\n",
      "           4       0.85      0.90      0.88       104\n",
      "\n",
      "    accuracy                           0.91       300\n",
      "   macro avg       0.90      0.91      0.91       300\n",
      "weighted avg       0.92      0.91      0.91       300\n",
      "\n"
     ]
    }
   ],
   "source": [
    "#rapport de prédiction\n",
    "print(metrics.classification_report(y_test, predFirst))"
   ]
  },
  {
   "cell_type": "markdown",
   "metadata": {},
   "source": [
    "Interprétation\n",
    "\n",
    " - le support. C'est le nombre d'éléments dans chacune des classes de l'échantillon de test.\n",
    " \n",
    " \n",
    " - precision : il est définit par $p = \\frac{TP}{TP+FP}$ où TP = \"true positives\" = nombre d'éléments de la classe $k$ qui ont effectivement bien été prédits dans la classe $k$, et FP = \"false positives\" = nombre d'éléments qui n'étaient pas de la classe $k$ mais qui ont à tort été prédits en classe $k$. La précision est donc le rapport entre le nombre d'éléments correctement prédits comme classe $k$ et le nombre d'éléments total prédit comme $k$. Elle correspond à la pertinence de l'information remontée, mais ne s'intéresse pas à la quantité d'informations remontée : on aura peut être raté certains exemples de la classe $k$, qui auront été prédit dans une autre classe, mais tout ce qui a été prédit en classe $k$ est effectivement de la classe $k$, et donc pertinent.\n",
    " \n",
    " \n",
    " - recall : il est définit par $r = \\frac{TP}{TP+FN}$ où TP = \"true positives\" = nombre d'éléments de la classe $k$ qui ont effectivement bien été prédit dans la classe $k$, et FN = \"false negatives\" = nombre d'éléments qui étaient vraiment de la classe $k$ mais qui ont été prédit comme une autre classe. Le rappel est donc le rapport entre le nombre d'éléments correctement prédits comme classe $k$ et le nombre total d'éléments qui sont vraiment de la classe $k$ et qui auraient dû être prédits en $k$. Cela correspond à la quantité d'information effectivement remontée : même si l'on fait beaucoup d'erreur en prédisant en classe $k$ des exemples qui n'appartiennent pas à cette classe, on n'aura raté aucun exemple de la classe $k$.\n",
    " \n",
    " \n",
    " - f1-score : le f1-score est la moyenne harmonique de la précision et du rappel, et il baisse si l'une des deux mesures baisse. On pourra retenir $f1 = 2 \\frac{p \\times r }{p+r}$. Toutes ces mesures valent pour une classe donnée $k$. Pour en faire une mesure globale, on peut moyenner les précisions / rappels pour chacune des classes (c'est le macro average), ou pondérer cette moyenne par la taille du support (weighted avg).\n",
    "\n",
    "- accuracy, qui est une mesure globale qui correspond au nombre moyen d'exemples correctement prédits. C'est la mesure la plus simple, mais attention, la plus trompeuse lorsqu'il y a beaucoup de classes dans un modèle \n"
   ]
  },
  {
   "cell_type": "markdown",
   "metadata": {},
   "source": [
    "### Pour Aller plus loin "
   ]
  },
  {
   "cell_type": "markdown",
   "metadata": {},
   "source": [
    "Modification des paramètres d’apprentissage\n",
    "\n",
    "Notre arbre paraît tout de même surdimensionné. En effet on remarque   que plusieurs feuilles issues du même sommet père portent  des conclusions identiques. L'idée est donc d'introduire  un nouveau paramètre pour réduire la taille de l’arbre.\n",
    "On peut spécifier le nombre de noeud (max_leaf_nodes = 3) c.-à-d. dans notre cas un arbre qui produit 3 règles au maximum. Dixit  la méthode qui suit effectue en priorité les segmentations qui maximisent les contributions.\n"
   ]
  },
  {
   "cell_type": "code",
   "execution_count": 25,
   "metadata": {},
   "outputs": [
    {
     "data": {
      "text/plain": [
       "[Text(0.4, 0.8333333333333334, 'Uniformity of Cell Size <= 2.5\\ngini = 0.451\\nsamples = 398\\nvalue = [261, 137]'),\n",
       " Text(0.2, 0.5, 'gini = 0.04\\nsamples = 245\\nvalue = [240, 5]'),\n",
       " Text(0.6, 0.5, 'Bland Chromatin <= 2.5\\ngini = 0.237\\nsamples = 153\\nvalue = [21, 132]'),\n",
       " Text(0.4, 0.16666666666666666, 'gini = 0.375\\nsamples = 16\\nvalue = [12, 4]'),\n",
       " Text(0.8, 0.16666666666666666, 'gini = 0.123\\nsamples = 137\\nvalue = [9, 128]')]"
      ]
     },
     "execution_count": 25,
     "metadata": {},
     "output_type": "execute_result"
    },
    {
     "data": {
      "image/png": "[encoded data removed]",
      "text/plain": [
       "<Figure size 432x288 with 1 Axes>"
      ]
     },
     "metadata": {
      "needs_background": "light"
     },
     "output_type": "display_data"
    }
   ],
   "source": [
    "#modifions les paramètres d'apprentissage\n",
    "arbreSecond = DecisionTreeClassifier(min_samples_split=30,min_samples_leaf=10,max_leaf_nodes=3)\n",
    "#construction de l'arbre\n",
    "arbreSecond.fit(X_train, y_train)\n",
    "#affichage graphique de l'arbre\n",
    "plot_tree(arbreSecond,feature_names = list(df.columns[:-1]),filled=True)\n"
   ]
  },
  {
   "cell_type": "markdown",
   "metadata": {},
   "source": [
    "L’arbre est fortement simplifié et maintient ses qualités prédictives ! Vérifions le :\n"
   ]
  },
  {
   "cell_type": "code",
   "execution_count": 26,
   "metadata": {},
   "outputs": [
    {
     "name": "stdout",
     "output_type": "stream",
     "text": [
      "[[180  16]\n",
      " [ 10  94]]\n"
     ]
    }
   ],
   "source": [
    "#prédiction sur l'échantillon test\n",
    "predSecond = arbreSecond.predict(X_test)\n",
    "#matrice de confusion\n",
    "print(metrics.confusion_matrix(y_test,predSecond))\n"
   ]
  },
  {
   "cell_type": "markdown",
   "metadata": {},
   "source": [
    "On obtient bien la même matrice de confusion !!"
   ]
  },
  {
   "cell_type": "markdown",
   "metadata": {},
   "source": [
    "## Modélisation : RandomForest "
   ]
  },
  {
   "cell_type": "markdown",
   "metadata": {},
   "source": [
    "1. Implémenter & entraîner le modèle de random forest "
   ]
  },
  {
   "cell_type": "code",
   "execution_count": 27,
   "metadata": {},
   "outputs": [],
   "source": [
    "from sklearn.ensemble import RandomForestClassifier\n",
    "X_trainF, X_testF, y_trainF, y_testF = train_test_split(X, y,test_size=300,random_state=1,stratify=df.Class)\n",
    "rf = RandomForestClassifier(n_estimators = 100, bootstrap = True)"
   ]
  },
  {
   "cell_type": "markdown",
   "metadata": {},
   "source": [
    "quelques remarques :\n",
    "\n",
    "-     vous pouvez jouer avec le nombre d'arbres à l'aide du paramètre n_estimators\n",
    "-     le paramètre boostrap : Plutôt qu’utiliser toutes les données pour construire les arbres. On choisit pour chaque arbre aléatoirement un sous-ensemble (avec répétition possibles) des données. en d'autres termes, on fait en sorte que les arbres soient décorrélées. cela permet de réduire la variance des prévisions. Pour en savoir plus : https://machinelearningmastery.com/a-gentle-introduction-to-the-bootstrap-method/\n",
    "-    il est également possible de jouer sur le nombre de noeuds de chaque arbre avec max_leaf_nodes\n",
    "\n"
   ]
  },
  {
   "cell_type": "markdown",
   "metadata": {},
   "source": [
    "3. entrainer le modèle"
   ]
  },
  {
   "cell_type": "code",
   "execution_count": 28,
   "metadata": {},
   "outputs": [
    {
     "name": "stderr",
     "output_type": "stream",
     "text": [
      "C:\\Users\\Pontiff\\AppData\\Local\\Temp/ipykernel_22340/1471628387.py:1: DataConversionWarning: A column-vector y was passed when a 1d array was expected. Please change the shape of y to (n_samples,), for example using ravel().\n",
      "  rf.fit(X_trainF, y_trainF)\n"
     ]
    },
    {
     "data": {
      "text/plain": [
       "RandomForestClassifier()"
      ]
     },
     "execution_count": 28,
     "metadata": {},
     "output_type": "execute_result"
    }
   ],
   "source": [
    "rf.fit(X_trainF, y_trainF) "
   ]
  },
  {
   "cell_type": "code",
   "execution_count": 29,
   "metadata": {},
   "outputs": [
    {
     "name": "stdout",
     "output_type": "stream",
     "text": [
      "              precision    recall  f1-score   support\n",
      "\n",
      "           2       0.98      0.96      0.97       196\n",
      "           4       0.93      0.96      0.95       104\n",
      "\n",
      "    accuracy                           0.96       300\n",
      "   macro avg       0.96      0.96      0.96       300\n",
      "weighted avg       0.96      0.96      0.96       300\n",
      "\n"
     ]
    }
   ],
   "source": [
    "from sklearn.metrics import classification_report\n",
    "y_testF = y_testF.astype(int)\n",
    "print(classification_report(y_testF, rf.predict(X_testF)))"
   ]
  },
  {
   "cell_type": "code",
   "execution_count": 30,
   "metadata": {},
   "outputs": [
    {
     "name": "stdout",
     "output_type": "stream",
     "text": [
      "[[189   7]\n",
      " [  4 100]]\n"
     ]
    }
   ],
   "source": [
    "print(metrics.confusion_matrix(y_testF,rf.predict(X_testF)))"
   ]
  },
  {
   "cell_type": "markdown",
   "metadata": {},
   "source": [
    "### Pour aller plus loin \n",
    "\n",
    "Un ptt tuto qui pourrait vous aider à y voir plus clair\n",
    "https://www.datacamp.com/community/tutorials/random-forests-classifier-python\n",
    "\n",
    "-  Dans les forêts aléatoires, il n'est pas nécessaire de procéder à une validation croisée ou à un ensemble de test séparé pour obtenir une estimation non biaisée de l'erreur de l'ensemble de test. Il est estimé en interne, lors de l'exécution c'est ce qu'on appelle l'oob_error . C'est une méthode de détermination de l'erreur de prédiction qui permet à la forêt aléatoire d'être adaptée et validée tout en étant entraînée.\n",
    "https://www.quora.com/What-is-the-out-of-bag-error-in-Random-Forest-algorithm\n",
    "\n",
    "\n",
    "- Il est impossible d’analyser la multitude d’arbres pour évaluer l’influence des variables prédictives dans la modélisation, c'est pourquoi on utilise 'feature importance'"
   ]
  },
  {
   "cell_type": "code",
   "execution_count": 31,
   "metadata": {},
   "outputs": [
    {
     "data": {
      "text/html": [
       "<div>\n",
       "<style scoped>\n",
       "    .dataframe tbody tr th:only-of-type {\n",
       "        vertical-align: middle;\n",
       "    }\n",
       "\n",
       "    .dataframe tbody tr th {\n",
       "        vertical-align: top;\n",
       "    }\n",
       "\n",
       "    .dataframe thead th {\n",
       "        text-align: right;\n",
       "    }\n",
       "</style>\n",
       "<table border=\"1\" class=\"dataframe\">\n",
       "  <thead>\n",
       "    <tr style=\"text-align: right;\">\n",
       "      <th></th>\n",
       "      <th>Variable</th>\n",
       "      <th>Importance</th>\n",
       "    </tr>\n",
       "  </thead>\n",
       "  <tbody>\n",
       "    <tr>\n",
       "      <th>2</th>\n",
       "      <td>Uniformity of Cell Size</td>\n",
       "      <td>0.291843</td>\n",
       "    </tr>\n",
       "    <tr>\n",
       "      <th>3</th>\n",
       "      <td>Uniformity of Cell Shape</td>\n",
       "      <td>0.195412</td>\n",
       "    </tr>\n",
       "    <tr>\n",
       "      <th>6</th>\n",
       "      <td>Bare Nuclei</td>\n",
       "      <td>0.143103</td>\n",
       "    </tr>\n",
       "    <tr>\n",
       "      <th>7</th>\n",
       "      <td>Bland Chromatin</td>\n",
       "      <td>0.119917</td>\n",
       "    </tr>\n",
       "    <tr>\n",
       "      <th>8</th>\n",
       "      <td>Normal Nucleoli</td>\n",
       "      <td>0.084433</td>\n",
       "    </tr>\n",
       "    <tr>\n",
       "      <th>5</th>\n",
       "      <td>Single Epithelial Cell Size</td>\n",
       "      <td>0.064292</td>\n",
       "    </tr>\n",
       "    <tr>\n",
       "      <th>4</th>\n",
       "      <td>Marginal Adhesion</td>\n",
       "      <td>0.040500</td>\n",
       "    </tr>\n",
       "    <tr>\n",
       "      <th>1</th>\n",
       "      <td>Clump Thickness</td>\n",
       "      <td>0.039685</td>\n",
       "    </tr>\n",
       "    <tr>\n",
       "      <th>0</th>\n",
       "      <td>id</td>\n",
       "      <td>0.013542</td>\n",
       "    </tr>\n",
       "    <tr>\n",
       "      <th>9</th>\n",
       "      <td>Mitoses</td>\n",
       "      <td>0.007272</td>\n",
       "    </tr>\n",
       "  </tbody>\n",
       "</table>\n",
       "</div>"
      ],
      "text/plain": [
       "                      Variable  Importance\n",
       "2      Uniformity of Cell Size    0.291843\n",
       "3     Uniformity of Cell Shape    0.195412\n",
       "6                  Bare Nuclei    0.143103\n",
       "7              Bland Chromatin    0.119917\n",
       "8              Normal Nucleoli    0.084433\n",
       "5  Single Epithelial Cell Size    0.064292\n",
       "4            Marginal Adhesion    0.040500\n",
       "1              Clump Thickness    0.039685\n",
       "0                           id    0.013542\n",
       "9                      Mitoses    0.007272"
      ]
     },
     "execution_count": 31,
     "metadata": {},
     "output_type": "execute_result"
    }
   ],
   "source": [
    "impVarRF={\"Variable\":df.columns[:-1],\"Importance\":rf.feature_importances_}\n",
    "pd.DataFrame(impVarRF).sort_values(by=\"Importance\",ascending=False)"
   ]
  }
 ],
 "metadata": {
  "kernelspec": {
   "display_name": "Python 3",
   "language": "python",
   "name": "python3"
  },
  "language_info": {
   "codemirror_mode": {
    "name": "ipython",
    "version": 3
   },
   "file_extension": ".py",
   "mimetype": "text/x-python",
   "name": "python",
   "nbconvert_exporter": "python",
   "pygments_lexer": "ipython3",
   "version": "3.10.1"
  }
 },
 "nbformat": 4,
 "nbformat_minor": 2
}
